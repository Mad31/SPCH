{
 "cells": [
  {
   "cell_type": "markdown",
   "metadata": {},
   "source": [
    "# Comme une boule de billard.\n",
    "## 1. Simulation du mouvement d'une boule de billard\n",
    "### 1.1 Les vatiables de position\n",
    "Suite à la visualisation du mouvement et au pointage vidéo. On génére des listes contenant :\n",
    "\n",
    "- $temps$ : liste contenant les dates auxquelles on souhaitent représenter les positions de la boule.\n",
    "    * $temps = [t_0, t_1, t_2, ..., t_{i-1}, t_i, t_{i+1}, ... t_n]$\n",
    "- $x$ : liste contenant les abscisses représentatives des positions de la boule au cours du temps\n",
    "    * $x = [x_0, x_1, x_2, ..., x_{i-1}, x_i, x_{i+1}, ... x_n]$\n",
    "- $y$ : liste contenant les ordonnées représentatives des positions de la boule au cours du temps.\n",
    "    * $y = [y_0, y_1, y_2, ..., y_{i-1}, y_i, y_{i+1}, ... y_n]$"
   ]
  },
  {
   "cell_type": "code",
   "execution_count": null,
   "metadata": {},
   "outputs": [],
   "source": [
    "import matplotlib.pyplot as plt\n",
    "\n",
    "#création des dates\n",
    "temps = [i*0.1 for i in range(15)]\n",
    "# temps = [0, 0.1, 0.2, 0.3, 0.4, 0.5, 0.6, 0.7, 0.8, 0.9, 1.0, 1.1, 1.2, 1.4]\n",
    "# création des listes qui vont contenir les coordonnées de la boule de billard\n",
    "x=[]\n",
    "y=[]\n",
    "for t in temps :\n",
    "    # pour chaque date contenue dans temps, on ajoute les coordonnées de la boule\n",
    "    # la valeur -0.876 est obtenue à partir de la modélisation\n",
    "    x.append(-0.876*t)\n",
    "    y.append(0)\n",
    "\n",
    "plt.scatter(temps,x,label = 'x = f(temps)')\n",
    "plt.scatter(temps,y, label = 'y = f(temps)')\n",
    "plt.legend()\n",
    "plt.xlabel(\"temps\")\n",
    "plt.show()"
   ]
  },
  {
   "cell_type": "markdown",
   "metadata": {},
   "source": [
    "### 1.2. Représentation de la trajectoire de la boule.\n",
    "On peut maintenant représenter les différentes positions de la boule de billard dans un référentiel lié à la table."
   ]
  },
  {
   "cell_type": "code",
   "execution_count": null,
   "metadata": {
    "scrolled": true
   },
   "outputs": [],
   "source": [
    "import matplotlib.pyplot as plt\n",
    "\n",
    "img = plt.imread('table.png')\n",
    "# génére l'image de fond et la met à l'échelle\n",
    "plt.imshow(img,extent=[-1.6,0.62,-0.530,0.607])\n",
    "\n",
    "#création des dates\n",
    "temps = [i*0.1 for i in range(16)]\n",
    "\n",
    "# création des listes qui vont contenir les coordonnées de la boule de billard\n",
    "x=[]\n",
    "y=[]\n",
    "for t in temps :\n",
    "    # pour chaque date contenue dans t, on ajoute les coordonnées de la boule\n",
    "    # la valeur -0.876 est obtenue à partir de la modélisation\n",
    "    x.append(-0.876*t)\n",
    "    y.append(0)\n",
    "    \n",
    "plt.scatter(x,y)\n",
    "plt.show()"
   ]
  },
  {
   "cell_type": "markdown",
   "metadata": {},
   "source": [
    "### 1.3 Modifier la simulation.\n",
    "Le script ci-dessous, place une boule rouge sur la table, sans la déplacer, **modifier le mouvement de la bille bleue pour qu'elle percute la bille rouge.**"
   ]
  },
  {
   "cell_type": "code",
   "execution_count": null,
   "metadata": {},
   "outputs": [],
   "source": [
    "import matplotlib.pyplot as plt\n",
    "\n",
    "img = plt.imread('table.png')\n",
    "# génére l'image de fond et la met à l'échelle\n",
    "plt.imshow(img,extent=[-1.6,0.62,-0.530,0.607])\n",
    "\n",
    "#création des dates\n",
    "temps = [i*0.1 for i in range(16)]\n",
    "\n",
    "# création des listes qui vont contenir les coordonnées de la boule de billard\n",
    "x=[]\n",
    "y=[]\n",
    "for t in temps :\n",
    "    # pour chaque date contenue dans t, on ajoute les coordonnées de la boule\n",
    "    # la valeur -0.876 est obtenue à partir de la modélisation\n",
    "    x.append(-0.876*t)\n",
    "    y.append(0)\n",
    "plt.scatter(-1,0.2,color='red')    \n",
    "plt.scatter(x,y)\n",
    "plt.show()"
   ]
  },
  {
   "cell_type": "markdown",
   "metadata": {},
   "source": [
    "## Représentation du vecteur vitesse de la boule de billard\n",
    "$\\vec{V}\\left\n",
    "\\lbrace\n",
    "\\begin{array}{l}\n",
    "Vx = \\frac{\\Delta x}{\\Delta t} = \\frac{x_{i+1} - x_{i-1}}{t_{i+1} - t_{i-1}} ...\\textit{composante horizontale du vecteur vitesse}\\\\\n",
    "Vy = \\frac{\\Delta y}{\\Delta t} = \\frac{y_{i+1} - y_{i-1}}{t_{i+1} - t_{i-1}} ...\\textit{composante verticale du vecteur vitesse}\\\\\n",
    "\\end{array}\\right.\n",
    "$\n"
   ]
  },
  {
   "cell_type": "code",
   "execution_count": null,
   "metadata": {},
   "outputs": [],
   "source": [
    "\n",
    "import matplotlib.pyplot as plt\n",
    "\n",
    "img = plt.imread('table.png')\n",
    "# génére l'image de fond et la met à l'échelle\n",
    "plt.imshow(img,extent=[-1.6,0.62,-0.530,0.607])\n",
    "\n",
    "#création des dates\n",
    "temps = [i*0.1 for i in range(10)]\n",
    "\n",
    "# création des listes qui vont contenir les coordonnées de la boule de billard\n",
    "x=[]\n",
    "y=[]\n",
    "for t in temps :\n",
    "    # pour chaque date contenue dans t, on ajoute les coordonnées de la boule\n",
    "    # la valeur -0.876 est obtenue à partir de la modélisation\n",
    "    x.append(-1.4*t)\n",
    "    y.append(0)\n",
    "    \n",
    "Vx,Vy = [],[]\n",
    "for i in range(1,len(temps)-1) :\n",
    "    Vx.append((x[i+1]-x[i-1])/(temps[i+1]-temps[i-1]))\n",
    "    Vy.append((y[i+1]-y[i-1])/(temps[i+1]-temps[i-1]))\n",
    "# On affiche le graphe avec la méthode \"scatter\" pour les points et \"quiver\" pour les vecteurs\n",
    "plt.quiver(x[1:len(temps)-1],y[1:len(temps)-1],Vx,Vy)\n",
    "plt.scatter(x,y)\n",
    "plt.show()\n"
   ]
  },
  {
   "cell_type": "code",
   "execution_count": null,
   "metadata": {},
   "outputs": [],
   "source": []
  }
 ],
 "metadata": {
  "kernelspec": {
   "display_name": "Python 3",
   "language": "python",
   "name": "python3"
  },
  "language_info": {
   "codemirror_mode": {
    "name": "ipython",
    "version": 3
   },
   "file_extension": ".py",
   "mimetype": "text/x-python",
   "name": "python",
   "nbconvert_exporter": "python",
   "pygments_lexer": "ipython3",
   "version": "3.7.1"
  }
 },
 "nbformat": 4,
 "nbformat_minor": 2
}
