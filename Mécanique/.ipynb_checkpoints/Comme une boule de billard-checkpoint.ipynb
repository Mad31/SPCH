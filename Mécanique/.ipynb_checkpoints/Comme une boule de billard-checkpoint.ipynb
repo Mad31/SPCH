{
 "cells": [
  {
   "cell_type": "markdown",
   "metadata": {},
   "source": [
    "# Comme une boule de billard.\n",
    "## 1. Simulation du mouvement d'une boule de billard\n",
    "### 1.1 Les variables de position\n",
    "Suite à la visualisation du mouvement et au pointage vidéo. On génére des listes contenant :\n",
    "\n",
    "- $temps$ : liste contenant les dates auxquelles on souhaitent représenter les positions de la boule.\n",
    "    * $temps = [t_0, t_1, t_2, ..., t_{i-1}, t_i, t_{i+1}, ... t_n]$\n",
    "- $x$ : liste contenant les abscisses représentatives des positions de la boule au cours du temps\n",
    "    * $x = [x_0, x_1, x_2, ..., x_{i-1}, x_i, x_{i+1}, ... x_n]$\n",
    "- $y$ : liste contenant les ordonnées représentatives des positions de la boule au cours du temps.\n",
    "    * $y = [y_0, y_1, y_2, ..., y_{i-1}, y_i, y_{i+1}, ... y_n]$"
   ]
  },
  {
   "cell_type": "code",
   "execution_count": 1,
   "metadata": {},
   "outputs": [],
   "source": [
    "import matplotlib.pyplot as plt\n",
    "plt.rcParams[\"figure.figsize\"] = (8,8)\n",
    "\n",
    "#création des dates\n",
    "temps = [i*0.04 for i in range(34)]\n",
    "# temps = [0, 0.1, 0.2, 0.3, 0.4, 0.5, 0.6, 0.7, 0.8, 0.9, 1.0, 1.1, 1.2, 1.4]\n",
    "# création des listes qui vont contenir les coordonnées de la boule de billard\n",
    "x=[]\n",
    "y=[]\n",
    "for t in temps :\n",
    "    # pour chaque date contenue dans temps, on ajoute les coordonnées de la boule\n",
    "    # la valeur -0.888 est obtenue à partir de la modélisation\n",
    "    x.append(-0.89*t)\n",
    "    y.append(0)"
   ]
  },
  {
   "cell_type": "markdown",
   "metadata": {},
   "source": [
    "- Essayez d'évaluer ce que va renvoyer le cellule ci-dessous et exécuter là."
   ]
  },
  {
   "cell_type": "code",
   "execution_count": 2,
   "metadata": {},
   "outputs": [
    {
     "data": {
      "text/plain": [
       "0.32"
      ]
     },
     "execution_count": 2,
     "metadata": {},
     "output_type": "execute_result"
    }
   ],
   "source": [
    "temps[8]"
   ]
  },
  {
   "cell_type": "markdown",
   "metadata": {},
   "source": [
    "- Essayez d'évaluer ce que va renvoyer la cellule ci-dessous et exécuter là."
   ]
  },
  {
   "cell_type": "code",
   "execution_count": 3,
   "metadata": {},
   "outputs": [
    {
     "data": {
      "text/plain": [
       "-0.2848"
      ]
     },
     "execution_count": 3,
     "metadata": {},
     "output_type": "execute_result"
    }
   ],
   "source": [
    "x[8]"
   ]
  },
  {
   "cell_type": "markdown",
   "metadata": {},
   "source": [
    "- Essayer d'évaluer ce que va renvoyer la cellule ci-dessous et exécuter là."
   ]
  },
  {
   "cell_type": "code",
   "execution_count": 4,
   "metadata": {},
   "outputs": [
    {
     "data": {
      "text/plain": [
       "0"
      ]
     },
     "execution_count": 4,
     "metadata": {},
     "output_type": "execute_result"
    }
   ],
   "source": [
    "y[8]"
   ]
  },
  {
   "cell_type": "markdown",
   "metadata": {},
   "source": [
    "**Comparez les valeurs obtenues avec les valeurs expérimentales? Quel commentaire peut-on faire ?**\n",
    "\n",
    "## 1.2 Tracé des graphes.\n",
    "Voyons maintenant si nous retrouvons l'allure des courbes obtenues expérimentalement avec celles obtenues par le calcul :\n"
   ]
  },
  {
   "cell_type": "code",
   "execution_count": 5,
   "metadata": {},
   "outputs": [
    {
     "data": {
      "image/png": "[encoded data removed]",
      "text/plain": [
       "<Figure size 432x288 with 1 Axes>"
      ]
     },
     "metadata": {
      "needs_background": "light"
     },
     "output_type": "display_data"
    }
   ],
   "source": [
    "plt.scatter(temps,x,label = 'x = f(temps)')\n",
    "plt.scatter(temps,y, label = 'y = f(temps)')\n",
    "plt.legend()\n",
    "plt.xlabel(\"temps\")\n",
    "plt.show()"
   ]
  },
  {
   "cell_type": "markdown",
   "metadata": {},
   "source": [
    "### 1.3. Représentation de la trajectoire de la boule.\n",
    "On peut maintenant représenter les différentes positions de la boule de billard dans un référentiel lié à la table.\n",
    "**Vérifions que le mouvement simulé est bien conforme au mouvement observé**\n",
    "Une figure va s'ouvrir indépendemement du naviagateur, il est possible de faire des zooms, mais attention :\n",
    "**Attention un fois la figure analysée, il faut appuyer la fermer avant de poursuivre l'exécution des portions de code suivante.**"
   ]
  },
  {
   "cell_type": "code",
   "execution_count": 7,
   "metadata": {
    "scrolled": true
   },
   "outputs": [],
   "source": [
    "%matplotlib qt\n",
    "img = plt.imread('table.png')\n",
    "plt.imshow(img,extent=[-1.6,0.62,-0.530,0.607])\n",
    "\n",
    "plt.tight_layout()\n",
    "# génére l'image de fond et la met à l'échelle\n",
    "plt.axis([-1.7, 0.5, 0.6, -.5])\n",
    "plt.scatter(x,y)\n",
    "plt.show()"
   ]
  },
  {
   "cell_type": "markdown",
   "metadata": {},
   "source": [
    "### 1.3 Modifier la simulation.\n",
    "Le script ci-dessous, place une boule rouge sur la table, sans la déplacer, **modifier le mouvement de la bille bleue pour qu'elle percute la bille rouge.**\n",
    "\n",
    "- **Attention la position initiale de la bille bleue à l'instant $t_0$ doit être $(0,0)$**\n",
    "- **Attention, vous n'avez pas le droit de déplacer la bille rouge**\n",
    "\n",
    "\n",
    "**Une fois la situation réalisée, appeler le professeur pour vérification**"
   ]
  },
  {
   "cell_type": "code",
   "execution_count": null,
   "metadata": {},
   "outputs": [],
   "source": [
    "img = plt.imread('table.png')\n",
    "# génére l'image de fond et la met à l'échelle\n",
    "plt.imshow(img,extent=[-1.6,0.62,-0.530,0.607])\n",
    "\n",
    "#création des dates\n",
    "temps = [i*0.1 for i in range(16)]\n",
    "\n",
    "# création des listes qui vont contenir les coordonnées de la boule de billard\n",
    "x=[]\n",
    "y=[]\n",
    "for t in temps :\n",
    "    # pour chaque date contenue dans t, on ajoute les coordonnées de la boule\n",
    "    # la valeur -0.876 est obtenue à partir de la modélisation\n",
    "    x.append(-0.876*t)\n",
    "    y.append(0.17*t)\n",
    "plt.scatter(-1,0.2,color='red')    \n",
    "plt.scatter(x,y)\n",
    "plt.show()"
   ]
  },
  {
   "cell_type": "markdown",
   "metadata": {},
   "source": [
    "# 2. Représentation du vecteur vitesse de la boule de billard\n",
    "## 2.1 rappel mathématique.\n",
    "On rappelle la façon dont se calculent les composantes du vecteur vitesse. \n",
    "$\\vec{V}\\left\n",
    "\\lbrace\n",
    "\\begin{array}{l}\n",
    "Vx = \\frac{\\Delta x}{\\Delta t} = \\frac{x_{i+1} - x_{i-1}}{t_{i+1} - t_{i-1}} ...\\textit{composante horizontale du vecteur vitesse}\\\\\n",
    "Vy = \\frac{\\Delta y}{\\Delta t} = \\frac{y_{i+1} - y_{i-1}}{t_{i+1} - t_{i-1}} ...\\textit{composante verticale du vecteur vitesse}\\\\\n",
    "\\end{array}\\right.\n",
    "$\n",
    "\n"
   ]
  },
  {
   "cell_type": "markdown",
   "metadata": {},
   "source": [
    "Attention il serait pertinent que dans vos simulations la bille ne sorte pas de la table et n'oubliez pas de fermer la figure en cliquant sur le bouton bleu, avant d'éxécuter une nouvelle simulation.\n",
    "1. **Remplacer les parties ------------ par un code python, ces parties permettent de calculer les composantes du vecteur vitesse** -> exécuter le code et faites vérifier par le professeur.\n",
    "2. **Modififer la simulation pour que la bille aille plus vite** -> exécuter le code et faites vérifier par le professeur\n",
    "3. **Modifier la simulation pour que la bille aille moins vite** -> exécuter le code et faites vérifier par le professeur\n",
    "4. **Modifier la simulation pour que bille se déplace uniquement selon l'axe $ox$**-> exécuter le code et faites vérifier par le professeur\n",
    "5. **Modifier la simulation pour que la bille se déplace en diagonale sur la table.** -> exécuter le code et faites vérifier par le professeur"
   ]
  },
  {
   "cell_type": "code",
   "execution_count": null,
   "metadata": {},
   "outputs": [],
   "source": [
    "import matplotlib.pyplot as plt\n",
    "\n",
    "img = plt.imread('table.png')\n",
    "# génére l'image de fond et la met à l'échelle\n",
    "plt.imshow(img,extent=[-1.6,0.62,-0.530,0.607])\n",
    "\n",
    "#création des dates\n",
    "temps = [i*0.04 for i in range(10)]\n",
    "\n",
    "# création des listes qui vont contenir les coordonnées de la boule de billard\n",
    "x=[]\n",
    "y=[]\n",
    "for t in temps :\n",
    "    # pour chaque date contenue dans t, on ajoute les coordonnées de la boule\n",
    "    # la valeur -0.876 est obtenue à partir de la modélisation\n",
    "    x.append(-1.4*t)\n",
    "    y.append(0)\n",
    "    \n",
    "Vx,Vy = [],[]\n",
    "for i in range(1,len(temps)-1) :\n",
    "    Vx.append((--------------)/(----------------))\n",
    "    Vy.append((--------------)/(----------------))\n",
    "    \n",
    "# On affiche le graphe avec la méthode \"scatter\" pour les points et \"quiver\" pour les vecteurs\n",
    "plt.quiver(x[1:len(temps)-1],y[1:len(temps)-1],Vx,Vy)\n",
    "plt.scatter(x,y)\n",
    "plt.show()\n"
   ]
  },
  {
   "cell_type": "code",
   "execution_count": null,
   "metadata": {},
   "outputs": [],
   "source": []
  }
 ],
 "metadata": {
  "kernelspec": {
   "display_name": "Python 3",
   "language": "python",
   "name": "python3"
  },
  "language_info": {
   "codemirror_mode": {
    "name": "ipython",
    "version": 3
   },
   "file_extension": ".py",
   "mimetype": "text/x-python",
   "name": "python",
   "nbconvert_exporter": "python",
   "pygments_lexer": "ipython3",
   "version": "3.7.1"
  }
 },
 "nbformat": 4,
 "nbformat_minor": 2
}
